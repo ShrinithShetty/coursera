{
 "cells": [
  {
   "cell_type": "markdown",
   "id": "df8f1d31-4c58-4d17-8865-60500cce193c",
   "metadata": {},
   "source": [
    "# Data Science Tools and Ecosystem\n"
   ]
  },
  {
   "cell_type": "markdown",
   "id": "22c7c060-aa8a-4292-8678-91587173cef8",
   "metadata": {},
   "source": [
    "In this notebook, Data Science Tools and Ecosystem are summarized.\n"
   ]
  },
  {
   "cell_type": "markdown",
   "id": "1e5b9252-a081-4f2f-a574-d27af832c2c1",
   "metadata": {},
   "source": [
    "Some of the popular languages that Data Scientists use are:\n",
    "1. Python\n",
    "2. R\n",
    "3. Julia\n"
   ]
  },
  {
   "cell_type": "markdown",
   "id": "d4a614fc-d0e1-4f59-94ec-5abdd68e768d",
   "metadata": {},
   "source": [
    "Some of the commonly used libraries used by Data Scientists include:\n",
    "1. NumPy\n",
    "2. pandas\n",
    "3. Matplotlib\n"
   ]
  },
  {
   "cell_type": "markdown",
   "id": "2782f96a-d190-41bd-802e-617e1fc7a061",
   "metadata": {},
   "source": [
    "| Data Science Tools |\n",
    "|---------------------|\n",
    "| Jupyter Notebooks   |\n",
    "| RStudio             |\n",
    "| VS Code             |\n"
   ]
  },
  {
   "cell_type": "markdown",
   "id": "617c0b4c-4c99-4356-b031-4b325c3c9f94",
   "metadata": {},
   "source": [
    "### Below are a few examples of evaluating arithmetic expressions in Python.\n"
   ]
  },
  {
   "cell_type": "markdown",
   "id": "3de016f8-2f64-451d-86d5-7daae80d2d64",
   "metadata": {},
   "source": [
    "# This is a simple arithmetic expression to multiply then add integers.\n",
    "result = (3 * 4) + 5\n",
    "result\n"
   ]
  },
  {
   "cell_type": "markdown",
   "id": "69a454f5-5ef6-4cd9-ae5c-d95432856fd0",
   "metadata": {},
   "source": [
    "# This will convert 200 minutes to hours by dividing by 60.\n",
    "hours = 200 / 60\n",
    "hours\n"
   ]
  },
  {
   "cell_type": "markdown",
   "id": "3555fe93-0854-4b01-bb0c-4ffae49775be",
   "metadata": {},
   "source": [
    "## Objectives:\n",
    "\n",
    "- List popular languages for Data Science.\n",
    "- Introduce commonly used Data Science libraries.\n",
    "- Summarize key Data Science tools.\n",
    "- Provide examples of arithmetic expressions in Python.\n",
    "- Demonstrate simple calculations, such as converting minutes to hours.\n"
   ]
  },
  {
   "cell_type": "markdown",
   "id": "3e9e801e-2db1-4d55-964e-d52d37678f50",
   "metadata": {},
   "source": [
    "## Author\n",
    "\n",
    "Shrinith S Shetty\n"
   ]
  },
  {
   "cell_type": "code",
   "execution_count": null,
   "id": "6d217da3-5e47-4cf1-9354-69c6d4995c13",
   "metadata": {},
   "outputs": [],
   "source": []
  }
 ],
 "metadata": {
  "kernelspec": {
   "display_name": "Python 3 (ipykernel)",
   "language": "python",
   "name": "python3"
  },
  "language_info": {
   "codemirror_mode": {
    "name": "ipython",
    "version": 3
   },
   "file_extension": ".py",
   "mimetype": "text/x-python",
   "name": "python",
   "nbconvert_exporter": "python",
   "pygments_lexer": "ipython3",
   "version": "3.11.5"
  }
 },
 "nbformat": 4,
 "nbformat_minor": 5
}
